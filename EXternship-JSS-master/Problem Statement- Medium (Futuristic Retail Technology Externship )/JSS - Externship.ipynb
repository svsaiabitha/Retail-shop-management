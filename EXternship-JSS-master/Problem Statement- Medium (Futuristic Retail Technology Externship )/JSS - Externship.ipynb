{
 "cells": [
  {
   "cell_type": "markdown",
   "metadata": {},
   "source": [
    "## Import Statements"
   ]
  },
  {
   "cell_type": "code",
   "execution_count": 17,
   "metadata": {},
   "outputs": [],
   "source": [
    "import webbrowser\n",
    "import sqlite3\n",
    "from tkinter import *"
   ]
  },
  {
   "cell_type": "markdown",
   "metadata": {},
   "source": [
    "## Driver program\n",
    "   * Execute this code to get main page\n",
    "   * Before Executing execute all the other method to prevent name error"
   ]
  },
  {
   "cell_type": "code",
   "execution_count": 16,
   "metadata": {},
   "outputs": [],
   "source": [
    "#from tkinter import *\n",
    "window = Tk()\n",
    "window.title(\"GROCERY SHOP BILLING\")\n",
    "window.geometry('800x500')\n",
    "\n",
    "#--------------------------Heading--Label----------------------------# \n",
    "l_title=Label(window,text=' FARM TO FORK ',font='times 30 bold italic')\n",
    "l_title.place(x=240,y=90)\n",
    "\n",
    "#---------------------------creating--3--buttons----------------------#\n",
    "lst1=[]\n",
    "btn1= Button(window, text=\"Create A New Bill\",command=create_bill_fun)\n",
    "btn1.place(x=200,y=200)\n",
    "btn2= Button(window, text=\"Generate a bill\",command=display_bill_fun)\n",
    "btn2.place(x=350,y=200)\n",
    "btn3= Button(window, text=\"Check COVID Area \",command=fun)\n",
    "btn3.place(x=480,y=200)\n",
    "\n",
    "window.resizable(0,0)\n",
    "\n",
    "window.mainloop()"
   ]
  },
  {
   "cell_type": "code",
   "execution_count": null,
   "metadata": {},
   "outputs": [],
   "source": []
  },
  {
   "cell_type": "code",
   "execution_count": null,
   "metadata": {},
   "outputs": [],
   "source": []
  },
  {
   "cell_type": "markdown",
   "metadata": {},
   "source": [
    "## Menu Items"
   ]
  },
  {
   "cell_type": "code",
   "execution_count": 18,
   "metadata": {},
   "outputs": [],
   "source": [
    "#----------------------------nw-method-----------------------------------#\n",
    "def menu_items():\n",
    "    l_menu=Label(nw,text='Items                Price',font='times 15')\n",
    "    l_menu.place(x=650,y=90)\n",
    "    l_menu=Label(nw,text='-------------------------------',font='times 15')\n",
    "    l_menu.place(x=620,y=115)\n",
    "    l_menu=Label(nw,text='Sugar        -       Rs 50/kg',font='times 15')\n",
    "    l_menu.place(x=646,y=140)\n",
    "    l_menu=Label(nw,text='Oil            -        Rs 90/L',font='times 15')\n",
    "    l_menu.place(x=646,y=170)\n",
    "    l_menu=Label(nw,text='Potato        -      Rs 28/kg',font='times 15')\n",
    "    l_menu.place(x=646,y=200)\n",
    "    l_menu=Label(nw,text='Onion         -      Rs 30/kg',font='times 15')\n",
    "    l_menu.place(x=646,y=230)\n",
    "    l_menu=Label(nw,text='Rice          -      Rs 45/kg',font='times 15')\n",
    "    l_menu.place(x=646,y=260)\n",
    "    l_menu=Label(nw,text='Pulse          -     Rs 60/kg',font='times 15')\n",
    "    l_menu.place(x=646,y=290)\n",
    "    l_menu=Label(nw,text='Beans        -    Rs 80/kg',font='times 15')\n",
    "    l_menu.place(x=646,y=320)\n",
    "    l_menu=Label(nw,text='Tomato      -     Rs 25/kg',font='times 15')\n",
    "    l_menu.place(x=646,y=350)\n",
    "    l_menu=Label(nw,text='Chana          -     Rs 120/kg',font='times 15')\n",
    "    l_menu.place(x=646,y=380)"
   ]
  },
  {
   "cell_type": "markdown",
   "metadata": {},
   "source": [
    "## SQL connection \n",
    "  * Execute only once ,else it will raise an exception that database or table already present"
   ]
  },
  {
   "cell_type": "code",
   "execution_count": 19,
   "metadata": {},
   "outputs": [],
   "source": [
    "# importing module \n",
    "import sqlite3\n",
    "  \n",
    "# connecting to the database  \n",
    "connection = sqlite3.connect(\"Grocery5.db\") \n",
    "  \n",
    "# cursor  \n",
    "crsr = connection.cursor() \n",
    " \n",
    "# SQL command to create a table in the database \n",
    "sql_command = \"\"\"CREATE TABLE test (  \n",
    "dop DATE PRIMARY KEY,\n",
    "name VARCHAR(20),\n",
    "tot_amt INTEGER );\"\"\"\n",
    "\n",
    "# execute the statement \n",
    "crsr.execute(sql_command) \n",
    "\n",
    "# To save the changes in the files. Never skip this.  \n",
    "# If we skip this, nothing will be saved in the database. \n",
    "connection.commit() \n",
    "  \n",
    "# close the connection \n",
    "connection.close() "
   ]
  },
  {
   "cell_type": "markdown",
   "metadata": {},
   "source": [
    "##  Saving data from user to database when user presses < Click to save into database>"
   ]
  },
  {
   "cell_type": "code",
   "execution_count": 20,
   "metadata": {},
   "outputs": [],
   "source": [
    "def insert_from_user(date,name,amt):\n",
    "    con=sqlite3.connect(\"Grocery5.db\")\n",
    "    crsr=con.cursor()\n",
    "    try:\n",
    "        crsr.execute(\"insert into test values (?, ?,?)\", (date,name,amt))\n",
    "        lbl3 =Label(nw2, text=\"Data saved..\",bg='#FFFF00',font='times 14 bold')\n",
    "        lbl3.place(x=500,y=240)\n",
    "    except:\n",
    "        lbl3 =Label(nw2, text=\"Alert date already exist\",bg='red',font='times 14 bold')\n",
    "        lbl3.place(x=500,y=240)\n",
    "        print('exception handled')\n",
    "    con.commit()\n",
    "    con.close()"
   ]
  },
  {
   "cell_type": "code",
   "execution_count": 21,
   "metadata": {},
   "outputs": [],
   "source": [
    "def db_save():\n",
    "    insert_from_user(e3.get(),e4.get(),sum1)\n",
    "    "
   ]
  },
  {
   "cell_type": "markdown",
   "metadata": {},
   "source": [
    "## Searching date to get total amount"
   ]
  },
  {
   "cell_type": "code",
   "execution_count": 22,
   "metadata": {},
   "outputs": [],
   "source": [
    "def db_search():\n",
    "    global li_result\n",
    "    li_result=[]\n",
    "    date=e5.get()\n",
    "    #date='03-jan-2019'\n",
    "    #print(date)\n",
    "    connection = sqlite3.connect(\"Grocery5.db\") \n",
    "    \n",
    "    # cursor object \n",
    "    crsr = connection.cursor() \n",
    "  \n",
    "    # execute the command to fetch all the data from the table emp \n",
    "    crsr.execute(\"SELECT * FROM test \")  \n",
    "  \n",
    "    # store all the fetched data in the ans variable \n",
    "    ans= crsr.fetchall()  \n",
    "  \n",
    "    # loop to print all the data \n",
    "    for i in ans:\n",
    "        li_result.append(i)\n",
    "    b=0\n",
    "    for z in li_result:\n",
    "        b+=1\n",
    "        if date in z[0]:\n",
    "            #print(z[0],b)\n",
    "            lbl1 =Label(nw2, text=\"Date :  {}\".format(li_result[b-1][0]),font='times 14 bold')\n",
    "            lbl1.place(x=500,y=440)\n",
    "            lbl2 =Label(nw2, text=\"Customer name : {}\".format(li_result[b-1][1]),font='times 14 bold')\n",
    "            lbl2.place(x=500,y=470)\n",
    "            lbl3 =Label(nw2, text=\"Total Amount : {}\".format(li_result[b-1][2]),font='times 14 bold')\n",
    "            lbl3.place(x=500,y=500)\n",
    "            print(li_result[b-1][1],li_result[b-1][2])\n",
    "            break\n",
    "    else:\n",
    "        lbl3 =Label(nw2, text=\"Alert date doesn't exist\",bg='red',font='times 14 bold')\n",
    "        lbl3.place(x=500,y=240)\n",
    "            \n",
    "   "
   ]
  },
  {
   "cell_type": "markdown",
   "metadata": {},
   "source": [
    "## Checking COVID regions"
   ]
  },
  {
   "cell_type": "code",
   "execution_count": 23,
   "metadata": {},
   "outputs": [],
   "source": [
    "def fun():\n",
    "    new = 1\n",
    "    url = \"https://www.covid19india.org/\"\n",
    "    webbrowser.open(url,new=new)"
   ]
  },
  {
   "cell_type": "markdown",
   "metadata": {},
   "source": [
    "## Creating new window when user clicks < Enter Bill >"
   ]
  },
  {
   "cell_type": "code",
   "execution_count": 24,
   "metadata": {},
   "outputs": [],
   "source": [
    "#---------------------New window 2---------------#\n",
    "def display_bill_fun():\n",
    "    global nw2,e4,e3,e5\n",
    "    \n",
    "    nw2=Toplevel(window)\n",
    "    nw2.geometry('850x700')\n",
    "    \n",
    "    #--------------placing labels---------------------------#\n",
    "    lbl1 =Label(nw2, text=\"Enter Date  :\",font='times 20 bold')\n",
    "    lbl1.place(x=100,y=100)\n",
    "    lbl2 =Label(nw2, text=\"Enter Name :\",font='times 20 bold')\n",
    "    lbl2.place(x=100,y=150)\n",
    "    \n",
    "    #------------placing button------------------------------#\n",
    "    btn1= Button(nw2, text=\"Submit\",command=show_bill_nw2)\n",
    "    btn1.place(x=280,y=205)\n",
    "    \n",
    "    #-----------placing entry box----------------------------#\n",
    "    e3=Entry(nw2,width=15,font=('times',12,'bold'))\n",
    "    e3.insert(0,'dd-mmm-yyyy')\n",
    "    e3.place(x=280,y=105)\n",
    "    e4=Entry(nw2,width=15,font=('times',12,'bold'))\n",
    "    e4.place(x=280,y=155)\n",
    "    \n",
    "    \n",
    "     #---------------------searching amount on date--------------------------#\n",
    "    lbl4 =Label(nw2, text=\"Enter date to search amount\",font='times 14 bold')\n",
    "    lbl4.place(x=500,y=305)\n",
    "    \n",
    "    e5=Entry(nw2,width=15,font=('times',12,'bold'))\n",
    "    e5.insert(0,'dd-mmm-yyyy')\n",
    "    e5.place(x=500,y=350)\n",
    "    \n",
    "    \n",
    "    btn2= Button(nw2, text=\"Click to proceed\",bg='blue',command=db_search)\n",
    "    btn2.place(x=500,y=405)\n",
    "    #------------------------------------x----------------------------------#\n",
    "    \n",
    "    nw2.resizable(0,0)\n",
    "    nw2.mainloop()\n",
    "      "
   ]
  },
  {
   "cell_type": "code",
   "execution_count": 25,
   "metadata": {},
   "outputs": [],
   "source": [
    "#---------------fun1-of-new-window-2--------------------#\n",
    "def show_bill_nw2():\n",
    "    #----------------bill labels------------------------#\n",
    "    l_count=Label(nw2,text='Count',font='times 15')\n",
    "    l_count.place(x=40,y=240)\n",
    "    l_Item=Label(nw2,text='Item',font='times 15')\n",
    "    l_Item.place(x=160,y=240)\n",
    "    l_Unit=Label(nw2,text='Unit',font='times 15')\n",
    "    l_Unit.place(x=280,y=240)\n",
    "    l_Amount=Label(nw2,text='Amount',font='times 15')\n",
    "    l_Amount.place(x=400,y=240)\n",
    "    \n",
    "     #--------------nw2-show_bill-total-amount----------------#\n",
    "    global sum1\n",
    "    sum1=0\n",
    "    for i in range(len(lst1)):\n",
    "        sum1=sum1+lst1[i][3]\n",
    "    \n",
    "    #--------------placing labels for output-----------------#\n",
    "    lbl2 =Label(nw2, text=\"Hello {} !! \".format(e4.get()),bg='#a0fc0a',font='times 14 bold')\n",
    "    lbl2.place(x=500,y=100)\n",
    "    lbl3 =Label(nw2, text=\"You have to pay : Rs {}  \".format(sum1),bg='#a0fc0a',font='times 14 bold')\n",
    "    lbl3.place(x=500,y=150)\n",
    "    \n",
    "    #--------------------entry button to database-----------------#\n",
    "    btn1= Button(nw2, text=\"CLick to save into database\",command=db_save)\n",
    "    btn1.place(x=500,y=205)\n",
    "    \n",
    "   \n",
    "    \n",
    "    \n",
    "   \n",
    "    \n",
    "    \n",
    "    #---------------printing items-----------------------#\n",
    "    f2= Frame(nw2)\n",
    "    f2.place(x=40,y=280)\n",
    "    total_rows = len(lst1)\n",
    "    if(len(lst1)!=0):\n",
    "        total_columns = len(lst1[0])\n",
    "        for i in range(total_rows):\n",
    "            for j in range(total_columns):\n",
    "                e= Entry(f2, width=10, fg='blue',font=('times',16,))\n",
    "                e.grid(row=i, column=j)\n",
    "                e.insert(END, lst1[i][j])"
   ]
  },
  {
   "cell_type": "markdown",
   "metadata": {},
   "source": [
    "## Creating a button to enter items (New window 1)"
   ]
  },
  {
   "cell_type": "code",
   "execution_count": 26,
   "metadata": {},
   "outputs": [],
   "source": [
    "#-----------------------fun1 of nw----------------------------#\n",
    "def create_bill_fun():\n",
    "    global lst1,nw\n",
    "    nw=Toplevel(window)\n",
    "    nw.geometry('900x800')\n",
    "    lst1=[]\n",
    "    nw.title(\"Billing Input\")\n",
    "    l_menu=Label(nw,text='-------------------------------',font='times 15')\n",
    "    l_menu.place(x=620,y=65)\n",
    "    menu_items()\n",
    "    btn = Button(nw, text=\"Click To Enter Items\",command=enter_items)\n",
    "    btn.place(x=300,y=100)\n",
    "\n",
    "    nw.resizable(0, 0)\n",
    "    nw.mainloop()\n",
    "\n"
   ]
  },
  {
   "cell_type": "markdown",
   "metadata": {},
   "source": [
    "## Nested methods of new window-1"
   ]
  },
  {
   "cell_type": "code",
   "execution_count": 27,
   "metadata": {},
   "outputs": [],
   "source": [
    "def enter_items():\n",
    "    global e1,e2\n",
    "    lbl1 =Label(nw, text=\"Enter Item\",font='times 20 bold')\n",
    "    lbl1.place(x=100,y=150)\n",
    "    lbl2 =Label(nw, text=\"Quantity\",font='times 20 bold')\n",
    "    lbl2.place(x=100,y=200)\n",
    "    e1=Entry(nw,width=15,font=('times',12,'bold'))\n",
    "    e1.place(x=280,y=155)\n",
    "    e2=Entry(nw,width=15,font=('times',12,'bold'))\n",
    "    e2.place(x=280,y=205)\n",
    "    #Button to refersh list of items\n",
    "    btn1 = Button(nw, text=\"Update Bill\",command=update_bill)\n",
    "    btn1.place(x=300,y=305)\n",
    "    btn2 = Button(nw, text=\"Submit Bill \",command=refresh_list)\n",
    "    btn2.place(x=400,y=305)\n",
    "\n",
    "    \n",
    "\n",
    "    "
   ]
  },
  {
   "cell_type": "code",
   "execution_count": 28,
   "metadata": {},
   "outputs": [],
   "source": [
    "def update_bill():\n",
    "    l_count=Label(nw,text='Count',font='times 15')\n",
    "    l_count.place(x=100,y=370)\n",
    "    l_Item=Label(nw,text='Item',font='times 15')\n",
    "    l_Item.place(x=220,y=370)\n",
    "    l_Unit=Label(nw,text='Unit',font='times 15')\n",
    "    l_Unit.place(x=340,y=370)\n",
    "    l_Amount=Label(nw,text='Amount',font='times 15')\n",
    "    l_Amount.place(x=460,y=370)\n",
    "    count=0\n",
    "    global f\n",
    "    f= Frame(nw)\n",
    "    f.place(x=100,y=400)\n",
    "    key=e1.get().lower()\n",
    "    value=e2.get()\n",
    "    bool_result=validate_items(key)\n",
    "    bool_is_a_digit=value.isdigit()\n",
    "    if(bool_result and  bool_is_a_digit):\n",
    "        count=len(lst1)+1\n",
    "        li=[count,e1.get(),e2.get(),int(value)*dict_items[key]]\n",
    "        lst1.append(li)\n",
    "        total_rows = len(lst1) \n",
    "        total_columns = len(lst1[0]) \n",
    "        for i in range(total_rows):\n",
    "            for j in range(total_columns):\n",
    "                e= Entry(f, width=10, fg='blue',font=('times',16,))\n",
    "                e.grid(row=i, column=j)\n",
    "                e.insert(END, lst1[i][j])\n",
    "   \n",
    "\n",
    "    elif not bool_is_a_digit:\n",
    "        error_msg_value(value)\n",
    "        \n",
    "    else:\n",
    "        error_msg(key)\n",
    "        "
   ]
  },
  {
   "cell_type": "markdown",
   "metadata": {},
   "source": [
    "## Method to submit list"
   ]
  },
  {
   "cell_type": "code",
   "execution_count": 29,
   "metadata": {},
   "outputs": [],
   "source": [
    "def refresh_list():\n",
    "    nw.destroy()\n",
    "    "
   ]
  },
  {
   "cell_type": "markdown",
   "metadata": {},
   "source": [
    "## Method to validate items"
   ]
  },
  {
   "cell_type": "code",
   "execution_count": 30,
   "metadata": {},
   "outputs": [],
   "source": [
    "def validate_items(key):\n",
    "    global dict_items\n",
    "    dict_items={'sugar':50,'oil':90,'potato':28,'onion':30,'rice':45,'pulse':60,'beans':80,'tomato':25,'chana':120}\n",
    "    if key in dict_items:\n",
    "        return True\n",
    "    else:\n",
    "        return False"
   ]
  },
  {
   "cell_type": "markdown",
   "metadata": {},
   "source": [
    "## Method to print error msg for item not in list"
   ]
  },
  {
   "cell_type": "code",
   "execution_count": 31,
   "metadata": {},
   "outputs": [],
   "source": [
    "def error_msg(item):\n",
    "    err= Entry(nw, width=30, fg='red',font=('times',10))\n",
    "    err.place(x=420,y=155)\n",
    "    err.insert(END,'Error {} not found'.format(item))"
   ]
  },
  {
   "cell_type": "markdown",
   "metadata": {},
   "source": [
    "## Method to print error msg if value is not integer"
   ]
  },
  {
   "cell_type": "code",
   "execution_count": 32,
   "metadata": {},
   "outputs": [],
   "source": [
    "def error_msg_value(item):\n",
    "    err= Entry(nw, width=30, fg='red',font=('times',10))\n",
    "    err.place(x=420,y=205)\n",
    "    err.insert(END,'Error {} ! not a number'.format(item))"
   ]
  },
  {
   "cell_type": "code",
   "execution_count": null,
   "metadata": {},
   "outputs": [],
   "source": []
  }
 ],
 "metadata": {
  "kernelspec": {
   "display_name": "Python 3",
   "language": "python",
   "name": "python3"
  },
  "language_info": {
   "codemirror_mode": {
    "name": "ipython",
    "version": 3
   },
   "file_extension": ".py",
   "mimetype": "text/x-python",
   "name": "python",
   "nbconvert_exporter": "python",
   "pygments_lexer": "ipython3",
   "version": "3.7.6"
  }
 },
 "nbformat": 4,
 "nbformat_minor": 4
}
